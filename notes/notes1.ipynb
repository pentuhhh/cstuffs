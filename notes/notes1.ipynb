{
 "cells": [
  {
   "cell_type": "code",
   "execution_count": null,
   "metadata": {},
   "outputs": [],
   "source": []
  },
  {
   "cell_type": "markdown",
   "metadata": {},
   "source": [
    "One dimensional arrays \n",
    "\n",
    "    1. Passing an array to a function\n",
    "    - a function can receive an array. My preference is to declare a function that accepts a pointer\n",
    "\n",
    "    example would be \"void swap(int *a, int *b); this function can accept either a pointer to a variable OR\n",
    "    it may accept a specific element of an array\n",
    "\n",
    "    lets say we have an array = {1,2,3}, we want to swap index 0 and index 2 (numbers 1 and 3 respectively), we may use\n",
    "    swap(array[0], array[2])\n",
    "\n",
    "    2. Dynamic allocation and deallocation\n",
    "\n",
    "    - suppose we have a function, get array. this function will continuosly ask the user to input a number and it will combine all\n",
    "    the inputs into an array. How do we go about this?\n",
    "\n",
    "    first we may initialize the function\n",
    "\n",
    "    int *getArray(int arraylength) - we use *getArray since we want the function to return a pointer to an array. the function will \n",
    "    receive an integer value, corresponding to its length\n",
    "\n",
    "    ** The problem is that functions will delete its contents, variables and pointers, once it is completed. How do we counter\n",
    "    this?**\n",
    "\n",
    "    we have to allocate space in the memory for our array.\n",
    "\n",
    "    Let us use malloc\n",
    "\n",
    "    its syntax is \"datatype * name = (datatype *) malloc (length * sizeof(datatype));\n",
    "    since our getArray function will create a integer array, we will malloc a new array inside the func. defn\n",
    "\n",
    "    int *myarray = (int *)malloc(length * sizeof(int));\n",
    "\n",
    "    in this, the malloc function will create a block of memory, of a fixed size. its size is determined in bytes\n",
    "    if we want an array of 5 integers, we can calculate the size since we know the size of one integer value, 4 bytes\n",
    "\n",
    "    5 * 4 bytes = 20bytes\n",
    "\n",
    "    *myarray will point to a location in the memory where 20bytes is allocated.\n",
    "\n",
    "    - suppose we are to use calloc. calloc is similar to malloc however the memory allocated is contiguos. it also takes two inputs\n",
    "\n",
    "    int *myarray = (int *)calloc(5, sizeof(int));\n",
    "\n",
    "    differences\n",
    "    - malloc does not initialize values to zero\n",
    "    - calloc adds some extra memory overhead\n",
    "\n",
    "    calloc stands for clear allocation where malloc stands for memory allocation\n"
   ]
  },
  {
   "cell_type": "markdown",
   "metadata": {},
   "source": [
    "    2. suppose our array of 3 integers is not enough and we want to hold 6 integers, we will use realloc or re-allocate\n",
    "    - syntax void *realloc(void *ptr, size_t newsize)\n",
    "        this means that realloc will return a pointer. the realloc function will receive a pointer and a value for the newsize\n",
    "\n",
    "    usage: reallocate an array of 3 to 6\n",
    "\n",
    "    int *myarray = (int*)calloc(3, sizeof(int));\n",
    "    myarray = (int*)realloc(myarray, 6*sizeof(int));\n",
    "\n",
    "    this way, myarray is reallocated to have a size of 24 bytes or 6 blocks of 4 bytes\n",
    "\n",
    "    myarray[0] to myarray[2] will keep its data while myarray[3] to myarray[5] will contain values as realloc will not initialize the values"
   ]
  },
  {
   "cell_type": "code",
   "execution_count": 2,
   "metadata": {},
   "outputs": [
    {
     "ename": "SyntaxError",
     "evalue": "invalid syntax (2276032036.py, line 4)",
     "output_type": "error",
     "traceback": [
      "\u001b[0;36m  Cell \u001b[0;32mIn[2], line 4\u001b[0;36m\u001b[0m\n\u001b[0;31m    char *myArray(){\u001b[0m\n\u001b[0m                   ^\u001b[0m\n\u001b[0;31mSyntaxError\u001b[0m\u001b[0;31m:\u001b[0m invalid syntax\n"
     ]
    }
   ],
   "source": [
    "#include <stdio.h>\n",
    "#include <stdlib.h>\n",
    "#include <string.h>\n",
    "char *myArray(){\n",
    "    char *array = (char*)calloc(2,sizeof(char));\n",
    "    array[0] = 'a';\n",
    "    array[1] = 'b';\n",
    "    return array;\n",
    "}\n",
    "\n",
    "int main(){\n",
    "    char *array = myArray();\n",
    "    puts(array);\n",
    "}\n",
    "\n",
    "#returning an array"
   ]
  }
 ],
 "metadata": {
  "kernelspec": {
   "display_name": "Python 3",
   "language": "python",
   "name": "python3"
  },
  "language_info": {
   "codemirror_mode": {
    "name": "ipython",
    "version": 3
   },
   "file_extension": ".py",
   "mimetype": "text/x-python",
   "name": "python",
   "nbconvert_exporter": "python",
   "pygments_lexer": "ipython3",
   "version": "3.9.6"
  }
 },
 "nbformat": 4,
 "nbformat_minor": 2
}
