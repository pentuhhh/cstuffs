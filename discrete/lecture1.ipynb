{
 "cells": [
  {
   "cell_type": "markdown",
   "metadata": {
    "vscode": {
     "languageId": "latex"
    }
   },
   "source": [
    "$\\textbf{Mathematical Systems, Direct Proofs and Counter Examples}$"
   ]
  },
  {
   "cell_type": "markdown",
   "metadata": {},
   "source": [
    "$\\textbf{By: Nikolai Tristan Pazon}$\n",
    "\n",
    "$\\textbf{University of San Carlos}$"
   ]
  },
  {
   "cell_type": "markdown",
   "metadata": {},
   "source": [
    "$\\textbf{Task: Prove that e, Euler's number is not a rational number}$"
   ]
  },
  {
   "cell_type": "markdown",
   "metadata": {
    "vscode": {
     "languageId": "latex"
    }
   },
   "source": [
    "$$\n",
    "e = \\sum_{k=0}^\\infty \\frac{1}{k!} \\notin \\mathbb{Q}\n",
    "$$\n"
   ]
  },
  {
   "cell_type": "markdown",
   "metadata": {},
   "source": [
    "Let us create a hypothesis, assume that euler's number is a rational number.\n",
    "\n",
    "hypothesis: $e \\in \\mathbb{Q}$"
   ]
  },
  {
   "cell_type": "markdown",
   "metadata": {},
   "source": [
    "Recalling the definition of a rational number, denoted as $\\mathbb{Q}$\n",
    "\n",
    "$$\n",
    "\\frac{a}{b} = \\mathbb{Q}\n",
    "$$"
   ]
  },
  {
   "cell_type": "markdown",
   "metadata": {},
   "source": [
    "Suppose that the summation from k = 0 to $\\infty$ can be expressed in a more simpler form\n",
    "\n",
    "$$\n",
    "    e = \\sum_{k=0}^\\infty \\frac{1}{k!} = \\frac{1}{0!} + \\frac{1}{1!} + \\frac{1}{2!} ... + \\frac{1}{k!} = \\frac{a}{b}\n",
    "$$\n",
    "\n",
    "$$\n",
    "e = \\frac{a}{b}\n",
    "$$"
   ]
  },
  {
   "cell_type": "markdown",
   "metadata": {},
   "source": [
    "According to our hypothesis where $e \\in \\mathbb{Q}$, the reciprocal of eulers number\n",
    "should also be rational\n",
    "\n",
    "$$\n",
    "e = \\frac{a}{b} \\quad = \\quad e^{x} = \\frac{b}{a}\n",
    "$$\n",
    "$$\n",
    "s.t. \\space\\space x = -1\n",
    "$$"
   ]
  },
  {
   "cell_type": "markdown",
   "metadata": {},
   "source": [
    "$$\n",
    "e^{-1} = \\frac{1}{e} = \\frac{b}{a} = \\sum_{k=0}^\\infty \\frac{(-1)^{k}}{k!}\n",
    "$$\n",
    "\n",
    "$$\n",
    "s.t. \\space\\space\\space a,b \\in \\mathbb{Z}\n",
    "$$"
   ]
  },
  {
   "cell_type": "markdown",
   "metadata": {},
   "source": [
    "Using a, let us group the summation of the infinite series into two terms. The first term will be the summation from 0 to a and the second \n",
    "term will be the summation from a to infinity. \n",
    "\n",
    "$$\n",
    "e^{-1} = \\frac{b}{a}= \\sum_{k=0}^{a} \\frac{(-1)^{k}}{k!} + \\sum_{k = a + 1}^{\\infty} \\frac{(-1)^{k}}{k!}\n",
    "$$\n",
    "\n",
    "$$\n",
    "\\frac{b}{a} - \\sum_{k = 0}^{a} \\frac{(-1)^k}{k!} = \\sum_{k = a + 1}^{\\infty} \\frac{(-1)^{k}}{k!}\n",
    "$$"
   ]
  },
  {
   "cell_type": "markdown",
   "metadata": {},
   "source": [
    "Multiply each term with \n",
    "\n",
    "$$(-1)^{(a+1)}a!$$"
   ]
  },
  {
   "cell_type": "markdown",
   "metadata": {},
   "source": [
    "$\\textbf{term 1:}$\n",
    "\n",
    "$$\n",
    "= \\frac{b}{a} * (-1)^{(a+1)}a!\n",
    "$$\n",
    "\n",
    "$$\n",
    "    = (-1)^{(a+1)} b(a-1)! \n",
    "$$"
   ]
  },
  {
   "cell_type": "markdown",
   "metadata": {},
   "source": [
    "$\\textbf{term 2:}$\n",
    "\n",
    "$$\n",
    "(-1)^{(a+1)} (\\frac{a!}{2!} \\dots + \\frac{(-1)^{a}a!}{a})\n",
    "$$\n",
    "\n",
    "in this series, every denominator is always less than the numerator, it will always result\n",
    "an integer since the denominator is a factor of the numerator\n",
    "\n",
    "$$\n",
    "    \\forall a, b \\in \\mathbb{Z}, a > b\n",
    "$$\n",
    "\n",
    "$$\n",
    "    \\frac{a!}{b!} = c, \\space\\space\\space s.t \\space\\space\\space c \\in \\mathbb{Z}\n",
    "$$"
   ]
  },
  {
   "cell_type": "markdown",
   "metadata": {},
   "source": [
    "since term 1 and term 2 is a subtraction between two integers, we can conclude that the left\n",
    "side of the equation is an integer\n",
    "\n",
    "$$\n",
    "\n",
    "(-1)^{(a+1)} b(a-1)! - (-1)^{(a+1)} (\\frac{a!}{2!} \\dots + \\frac{(-1)^{a}a!}{a}) \\in \\mathbb{Z}\n",
    "\n",
    "$$"
   ]
  },
  {
   "cell_type": "markdown",
   "metadata": {},
   "source": [
    "Let us expound on the term on the right side of the equation\n",
    "\n",
    "$$\n",
    "=  \\frac{1}{a + 1} - \\frac{1}{(a + 1)(a + 2)} + \\dots\n",
    "$$\n",
    "\n"
   ]
  },
  {
   "cell_type": "markdown",
   "metadata": {},
   "source": [
    "in this expression, an upper and lower bound is defined. The first term is the \n",
    "upper bound. The succeeding terms are the lower bound such that it is lower than the first term\n",
    "as k reaches infinity, the summation of the succeding terms will approach zero. Therefore this\n",
    "this expression will result in a number that is irrational\n",
    "\n",
    "$$\n",
    "\\frac{1}{a + 1} - \\frac{1}{(a + 1)(a + 2)} + \\dots \\notin \\mathbb{Z}\n",
    "$$"
   ]
  },
  {
   "cell_type": "markdown",
   "metadata": {},
   "source": [
    "Therefore by contradiction, Euler's number is Irrational"
   ]
  },
  {
   "cell_type": "markdown",
   "metadata": {},
   "source": [
    "$\\textbf{Task: Prove Minskowski's Inequality for Sums}$\n",
    "\n",
    "$$\n",
    "    [\\sum_{k = 1}^{n} |a_k + b_k|^{p}]^\\frac{1}{p} \\leq [\\sum_{k = 1}^{n} |a_k|^{p}]^\\frac{1}{p}\n",
    "  + [\\sum_{k = 1}^{n} |b_k|^{p}]^\\frac{1}{p}\n",
    "$$\n",
    "\n",
    "$$\n",
    "\\forall a, b, p \\in \\mathbb{R}\n",
    "$$\n",
    "\n",
    "$$\n",
    "p  > 1, (a_k, b_k) > 0\n",
    "$$"
   ]
  },
  {
   "cell_type": "markdown",
   "metadata": {},
   "source": [
    "Let us directly prove Minskowski's Inequality for sums by the\n",
    "triangle Inequality theorem\n",
    "\n",
    "$$\n",
    "|a + b| \\leq |a| + |b|\n",
    "$$"
   ]
  },
  {
   "cell_type": "markdown",
   "metadata": {},
   "source": [
    "Let us first raise terms on both sides to P\n",
    "\n",
    "$$\n",
    "|a + b|^{p} \\leq |a|^{p} + |b|^{p}  \n",
    "$$"
   ]
  },
  {
   "cell_type": "markdown",
   "metadata": {},
   "source": [
    "Do summation notation for all k from 1 to n\n",
    "\n",
    "$$\n",
    "\\sum_{k = 1}^{n} |a_k + b_k|^{p} \\leq \\sum_{k=1}^{n} |a_k|^{p} + \\sum_{k =1 }^{n} |b_k|^{p} \n",
    "$$\n"
   ]
  },
  {
   "cell_type": "markdown",
   "metadata": {},
   "source": [
    "raise to 1 over p by property of absolute value\n",
    "\n",
    "$$\n",
    "[\\sum_{k = 1}^{n}|a_k + b_k|^{p}]^{\\frac{1}{p}} \\leq [\\sum_{k = 1}^{n} |a_k|^{p}]^{\\frac{1}{p}} + [\\sum_{k = 1}^{n}|b_k|^{p}]^{\\frac{1}{p}}\n",
    "$$"
   ]
  },
  {
   "cell_type": "markdown",
   "metadata": {},
   "source": [
    "$\\textbf{Task: Prove Triangle Inequality}$\n",
    "\n",
    "$$\n",
    "|x+y| \\leq |x| + |y|, \\forall (x,y) \\in \\mathbb{R}\n",
    "$$\n"
   ]
  },
  {
   "cell_type": "markdown",
   "metadata": {},
   "source": [
    "hypothesis:\n",
    "\n",
    "$$\n",
    "(|x| + |y|)^{2} \\geq |a + b|^{2}\n",
    "$$"
   ]
  },
  {
   "cell_type": "markdown",
   "metadata": {},
   "source": [
    "$$\n",
    "(x+y)^{2} = x^{2} + 2xy + y^{2} \\leq |x|^{2} + 2|x||y| + |y|^{2}\n",
    "$$\n",
    "\n",
    "By the known properties of absolute value where $x \\leq |x|$\n",
    "\n",
    "$$\n",
    "x^{2} + 2xy + y^{2} = (x + y)^{2} = |a + b|^{2}\n",
    "$$\n",
    "\n",
    "therefore...\n",
    "\n",
    "$$\n",
    "\\sqrt{(|a| + |b|)^{2}} \\geq \\sqrt{|a + b|^{2}}\n",
    "$$\n",
    "$$\n",
    "|a| + |b| \\geq |a + b|\n",
    "$$"
   ]
  },
  {
   "cell_type": "markdown",
   "metadata": {},
   "source": [
    "$\\textbf{Task: Prove Sedrakyan's Lemma}$"
   ]
  },
  {
   "cell_type": "markdown",
   "metadata": {},
   "source": [
    "$$\n",
    "\n",
    "\\frac{(\\sum_{i=1}^{n}u_i)^{2}}{\\sum_{i = 1}^{n}v_i} \\leq \\sum_{i=i}^{n} \\frac{(u_i)^{2}}{v_i}\n",
    "$$"
   ]
  },
  {
   "cell_type": "markdown",
   "metadata": {},
   "source": [
    "Recall Cauchy-Schwarz Inequality\n",
    "\n",
    "\n",
    "$$\n",
    "|<a,b>|^{2} \\leq\\space\\space <a,a><b,b>\n",
    "$$\n",
    "\n",
    "$$\n",
    "\\forall u_i, v_i \\in \\mathbb{R}^{+}\n",
    "$$\n",
    "\n",
    "$\\textit{the square of the dot product of two vectors is less than or equal to the product of the dot product of each vector with itself.}$"
   ]
  },
  {
   "cell_type": "markdown",
   "metadata": {},
   "source": [
    "Let $a_i = u_i, b_i = \\sqrt{v_i}$\n",
    "\n",
    "$$\n",
    "|<a,b>|^{2}\\space = (\\sum_{i = 1}^{n}a_ib_i)^{2} = (\\sum_{i = 1}^{n}u_i \\sqrt{v_i})^{2}\n",
    "$$\n",
    "$$\n",
    "<a,a>\\space<b,b>\\space = (\\sum_{i = 1}^{n}a_i^{2})(\\sum_{i = 1}^{n}b_i^{2}) = (\\sum_{i = 1}^{n} u_i^{2})(\\sum_{i = 1}^{n}v_i)\n",
    "$$\n",
    "\n",
    "therefore\n",
    "\n",
    "$$\n",
    "(\\sum_{i = 1}^{n}u_i \\sqrt{v_i})^{2} \\leq (\\sum_{i = 1}^{n} u_i^{2})(\\sum_{i = 1}^{n}v_i)\n",
    "$$\n",
    "\n",
    "divide both sides by $\\sum_{i=1}^{n}v_i$\n",
    "\n",
    "$$\n",
    "\\frac{(\\sum_{i=1}^{n}u_i)^{2}}{\\sum_{i=1}^{n}v_i} \\leq \\sum_{i = 1}^{n} \\frac{u_i^{2}}{v_i}\n",
    "$$"
   ]
  },
  {
   "cell_type": "markdown",
   "metadata": {},
   "source": [
    "$\\textbf{Task:}$\n",
    "\n",
    "Consider the functions $f(x) = 2x+1$, $g(x)=2y-1$, $j(x) = |f(x)+g(x)|$, and $h(x) = j(x)^2$, show for the following inequality that:\n",
    "\n",
    "\\begin{gather}\n",
    "\\sqrt{|f(x)|^2} \\geq \\sqrt{h(x)} - \\sqrt{|g(x)|^2}, \\forall (x,y) \\in \\mathbb{Z}^+\n",
    "\\end{gather}"
   ]
  },
  {
   "cell_type": "markdown",
   "metadata": {},
   "source": [
    "Substitute functions\n",
    "\n",
    "$$\n",
    "\\sqrt{(2x+1)^{2}} \\geq \\sqrt{|(2x + 1)+(2y - 1)|^{2}} - \\sqrt{(2y-1)^{2}}\n",
    "$$"
   ]
  },
  {
   "cell_type": "markdown",
   "metadata": {},
   "source": [
    "By properties of absolute value, we know that\n",
    "\n",
    "$$\n",
    "\\sqrt{(x)^{2}} = |x|\n",
    "$$"
   ]
  },
  {
   "cell_type": "markdown",
   "metadata": {},
   "source": [
    "therefore, we get\n",
    "\n",
    "$$\n",
    "|2x + 1| \\geq |(2x + 1) + (2y - 1)| - |2y - 1|\n",
    "$$"
   ]
  },
  {
   "cell_type": "markdown",
   "metadata": {},
   "source": [
    "Let us assign variables to the terms to simplify the expression,\n",
    "\n",
    "Let $a = 2x + 1$ and $b = 2y - 1$\n",
    "\n",
    "$$\n",
    "|a| \\geq |a + b| - |b|\n",
    "$$\n",
    "\n",
    "add |b| and subtract |a| to both sides and we get"
   ]
  },
  {
   "cell_type": "markdown",
   "metadata": {},
   "source": [
    "$$\n",
    "|a + b| \\leq |a| + |b|\n",
    "$$\n",
    "\n",
    "The given inequality is just the triangle inequality theorem"
   ]
  },
  {
   "cell_type": "markdown",
   "metadata": {},
   "source": [
    "$\\textbf{Task: Sedrakayan's Lemma 2}$"
   ]
  },
  {
   "cell_type": "markdown",
   "metadata": {},
   "source": [
    "Prove Sedrakayan's Lemma if $u_i, v_i$ are square roots of an even integer\n",
    "\n",
    "$\\textbf{Part 1: Assuming that we are dealing with Perfect Squares}$\n",
    "\n",
    "let us expound on square roots of an even integer. This statement may not always be true as for example the square root of 8 is 2.83, which is not even and it is not an integer.\n",
    "\n",
    "Recall the definition of an even number...\n",
    "\n",
    "$$\n",
    "    \\forall n \\in \\mathbb{Z} \\space\\space\\space\\text{is EVEN}\\iff \\exists k \\in \\mathbb{Z}, n = 2k\n",
    "$$\n",
    "\n",
    "Recall the definition of a perfect square...\n",
    "\n",
    "$$\n",
    "    \\forall n \\in \\mathbb{Z} \\space\\space\\space \\text{is a PERFECT SQUARE}\\iff \\exists k \\in \\mathbb{Z}, k^{2} = n, k = \\sqrt{n} \\space\\space s.t. \\space n \\in \\mathbb{Z}^{+}\n",
    "$$\n",
    "\n"
   ]
  },
  {
   "cell_type": "markdown",
   "metadata": {},
   "source": [
    "The Square root of an even perfect square is an even number proof\n",
    "\n",
    "let $n = m^{2}$\n",
    "\n",
    "Unique prime factorization of $m$\n",
    "\n",
    "$$\n",
    "m = \\prod p_i^{n_i}\n",
    "$$\n",
    "\n",
    "prime factorization for $n$\n",
    "\n",
    "$$\n",
    "n = \\prod p_i^{2n_i}\n",
    "$$\n",
    "\n",
    "$n^{2}$ is for sure to be even. The prime factorization reveals that one if its prime numbers must be 2\n",
    "\n",
    "the primes that factor $n^{2}$ are the same as those that factor $m$, therefore $m$ must be even\n",
    "\n",
    "therefor the square root of an even perfect square is even"
   ]
  },
  {
   "cell_type": "markdown",
   "metadata": {},
   "source": [
    "let us assume that both are perfect square roots of an even integer $u_i = 2a_i$ and $v_i = 2b_i$ $a_i, b_i \\in \\mathbb{Z}$\n",
    "\n",
    "$$\n",
    "\n",
    "\\frac{(\\sum_{i=1}^{n}2a_i)^{2}}{\\sum_{i=1}^{n}2b_i} \\leq \\sum_{i=1}^{n} \\frac{(2a_i)^{2}}{2b_i}\n",
    "\n",
    "$$\n",
    "\n",
    "simplify\n",
    "\n",
    "$$\n",
    "\\frac{4(\\sum_{i=1}^{n}a_i)^{2}}{2\\sum_{i=1}^{n}b_i} \\leq \\sum_{i=1}^{n} \\frac{4(a_i)^{2}}{2b_i}\n",
    "$$"
   ]
  },
  {
   "cell_type": "markdown",
   "metadata": {},
   "source": [
    "simplify further\n",
    "$$\n",
    "\\frac{2(\\sum_{i=1}^{n}a_i)^{2}}{\\sum_{i=1}^{n}b_i} \\leq 2\\space[\\sum_{i=1}^{n} \\frac{(a_i)^{2}}{b_i}]\n",
    "$$"
   ]
  },
  {
   "cell_type": "markdown",
   "metadata": {},
   "source": [
    "multiply both sides by $\\frac{1}{2}$"
   ]
  },
  {
   "cell_type": "markdown",
   "metadata": {},
   "source": [
    "$$\n",
    "\\frac{(\\sum_{i=1}^{n}a_i)^{2}}{\\sum_{i = 1}^{n}b_i} \\leq \\sum_{i=i}^{n} \\frac{(a_i)^{2}}{b_i}\n",
    "$$\n",
    "\n",
    "Therefore Sedrakayan's Lemma holds true if $u_i$ and $v_i$ are square roots of an even perfect square"
   ]
  },
  {
   "cell_type": "markdown",
   "metadata": {},
   "source": [
    "$\\textbf{Part 2: Assuming that we are not dealing with perfect squares}$\n",
    "\n",
    "recalling the Cauchy-Schwarz inequality for Real Numbers...\n",
    "\n",
    "$$\n",
    "(\\sum_{i=1}^{n}a_i b_i)^{2} \\leq (\\sum_{i=1}^{n}a_i^{2})(\\sum_{i=1}^{n}b_i^{2})\n",
    "$$\n",
    "\n",
    "let $a_i = u_i$ and $b_i = \\sqrt{v_i}$\n",
    "\n",
    "$$\n",
    "(\\sum_{i=1}^{n}u_i v_i)^{2} \\leq (\\sum_{i=1}^{n}u_i^{2})(\\sum_{i=1}^{n}v_i^{2})\n",
    "$$\n",
    "\n",
    "since we are dealing with the square root of even integers, substitute the values $u_i = \\sqrt{2a_i}, v_i = \\sqrt{2b_i}$\n",
    "\n",
    "$$\n",
    "(\\sum_{i=1}^{n}\\sqrt{2a_i}\\sqrt{2b_i})^{2} \\leq (\\sum_{i=1}^{n}\\sqrt{2a_i^{2}})(\\sum_{i=1}^{n}\\sqrt{2b_i^{2}})\n",
    "$$\n",
    "\n",
    "simplify\n",
    "\n",
    "$$\n",
    "4\\sum_{i=1}^{n}a_ib_i \\leq 4\\sum_{i=1}^{n}a_i\\sum_{i=1}^{n}b_i\n",
    "$$\n",
    "\n",
    "divide both sides by... $4\\sum_{i=1}^{n}b_i$\n",
    "\n",
    "$$\n",
    "\\frac{4\\sum_{i=1}^{n}a_ib_i \\leq 4\\sum_{i=1}^{n}a_i\\sum_{i=1}^{n}b_i}{4\\sum_{i=1}^{n}b_i}\n",
    "$$\n",
    "\n",
    "$$\n",
    "4(\\frac{1}{4} )\\space [\\sum_{i=1}^{n}a_ib_i (\\frac{1}{[\\sum_{i=1}^{n}b_i]})] \\leq 4(\\frac{1}{4})\\space \\sum_{i=1}^{n}a_i(\\frac{1}{[\\sum_{i=1}^{n}b_i]})\\space\\space \\sum_{i=1}^{n}b_i (\\frac{1}{[\\sum_{i=1}^{n}b_i]})\n",
    "$$\n",
    "\n",
    "$$\n",
    "\\frac{\\sum_{i=1}^{n}a_i}{\\sum_{i=1}^{n}b_i} \\leq \\sum_{i=1}^{n}\\frac{a_i}{b_i}\n",
    "$$"
   ]
  },
  {
   "cell_type": "markdown",
   "metadata": {},
   "source": [
    "Remember that $u_i = \\sqrt{2a_i}, v_i = \\sqrt{2b_i}$\n",
    "\n",
    "modify the equality to get $a$ and $b$\n",
    "\n",
    "$$\n",
    "u_i = \\sqrt{2a_i}\n",
    "$$\n",
    "$$\n",
    "a = (\\frac{u_i^{2}}{2})\n",
    "$$\n",
    "\n",
    "$$\n",
    "v_i = \\sqrt{2b_i}\n",
    "$$\n",
    "$$\n",
    "b = (\\frac{b_i^{2}}{2})\n",
    "$$\n",
    "\n"
   ]
  },
  {
   "cell_type": "markdown",
   "metadata": {},
   "source": [
    "Substitue and square the numerator to get Sedrakayan's Lemma\n",
    "\n",
    "$$\n",
    "\\frac{\\sum_{i=1}^{n}\\frac{u_i^{2}}{2}}{\\sum_{i=1}^{n}\\frac{b_i^{2}}{2}} \\leq \\sum_{i=1}^{n}\\frac{\\frac{u_i^{2}}{2}}{\\frac{b_i^{2}}{2}}\n",
    "$$\n",
    "\n",
    "$$\n",
    "\\frac{(\\sum_{i=1}^{n}u_i)^{2}}{\\sum_{i=1}^{n}v_i} \\leq \\sum_{i=1}^{n}\\frac{u_i^{2}}{v_i}\n",
    "$$\n",
    "\n",
    "Therefore Sedrakayan's Lemma holds if $u_i$ and $v_i$ are square roots of an even integer"
   ]
  }
 ],
 "metadata": {
  "kernelspec": {
   "display_name": ".venv",
   "language": "python",
   "name": "python3"
  },
  "language_info": {
   "codemirror_mode": {
    "name": "ipython",
    "version": 3
   },
   "file_extension": ".py",
   "mimetype": "text/x-python",
   "name": "python",
   "nbconvert_exporter": "python",
   "pygments_lexer": "ipython3",
   "version": "3.12.3"
  }
 },
 "nbformat": 4,
 "nbformat_minor": 2
}
