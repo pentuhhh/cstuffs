{
 "cells": [
  {
   "cell_type": "markdown",
   "id": "7be059af-1529-447b-b93a-d2f186b41af1",
   "metadata": {},
   "source": [
    "$\\textbf{Questions:}$ \n",
    "\n",
    "1. Why do we need to prove?\n",
    "\n",
    "2. If we fail to generate a proof, what will happen?"
   ]
  },
  {
   "cell_type": "markdown",
   "id": "7a60ab48-eae0-4747-9cf0-67e6fbace61f",
   "metadata": {},
   "source": [
    "$\\textbf{Requirements}$\n",
    "\n",
    "1. Familiarity with laws of basic algebra (review your SHS notes).\n",
    "\n",
    "2. $A=A$, if $A = B$ then $B = A$, if $A = B$ and $B = C$, then $A = C$.\n",
    "\n",
    "3. Types of numbers."
   ]
  },
  {
   "cell_type": "markdown",
   "id": "f21163d1-7e16-403f-b74d-61c83bd13e3d",
   "metadata": {},
   "source": [
    "$\\textbf{Definition 1:}$\n",
    "\n",
    "1. An integer, $n$, is even $\\iff$ n equals twice some integer.\n",
    "\\begin{equation}\n",
    "n \\ is \\ even \\iff \\forall \\ integer \\ k \\ s.t. \\ n = 2k\n",
    "\\end{equation}\n",
    "\n",
    "3. An integer, $n$, is odd $\\iff$ n equals twie some integer plus 1.\n",
    "\\begin{equation}\n",
    "n \\ is \\ even \\iff \\forall \\ integer \\ k \\ s.t. \\ n = 2k+1\n",
    "\\end{equation}\n"
   ]
  },
  {
   "cell_type": "markdown",
   "id": "a18efca2-480a-496e-b84c-e0fe8285ec0d",
   "metadata": {},
   "source": [
    "Exercises:\n",
    "\n",
    "1. Is the number 0 even or odd?\n",
    "\n",
    "2. Is the number -301 even or odd?\n",
    "\n",
    "3. If a and b are integers, is the expression $6a^2b$ even or odd?\n",
    "\n",
    "4. If a and b are integers, is the expression $10a+8b+1$ even or odd?"
   ]
  },
  {
   "cell_type": "markdown",
   "id": "e368479c-94b1-4eda-aa47-0dae020e8a8a",
   "metadata": {},
   "source": [
    "$\\textbf{Definition 2}$\n",
    "\n",
    "1. An integer $n$ is a prime number $\\iff n>1, \\forall \\ (r,s) \\in \\mathbb{Z}^+$ and $n = rs$, where either $r = n, \\ and \\  s = 1$ or $r = 1, \\ and \\ s = n$.\n",
    "\n",
    "2. An integer $n$ is a composite number $\\iff n>1, \\forall \\ (r,s) \\in \\mathbb{Z}^+$ and $n = rs$, where $1<r<n$ and $1<s<n$."
   ]
  },
  {
   "cell_type": "markdown",
   "id": "d676c15f-b36a-4928-9157-3cc409ffb271",
   "metadata": {},
   "source": [
    "Exercises:\n",
    "\n",
    "1. List down the first 6 prime numbers.\n",
    "\n",
    "2. List down the first 6 composite numbers"
   ]
  },
  {
   "cell_type": "markdown",
   "id": "d0fbaad1-160a-457d-a93a-2c8abf2b0201",
   "metadata": {},
   "source": [
    "$\\textbf{Definition 3:}$\n",
    "\n",
    "If $P(x)$ is a predicate and $x$ has a domain $D$, the truth set of $P(x)$ is the set of all elements of D that make $P(x)$ true when they are substituted for $x$. The truth set of $P(x)$ is denoted as:\n",
    "\\begin{equation}\n",
    "\\{x \\in D | P(x)\\}\n",
    "\\end{equation}\n"
   ]
  },
  {
   "cell_type": "markdown",
   "id": "e84fb4c6-5f9f-457d-bba8-fe61018b68b9",
   "metadata": {},
   "source": [
    "Exercises:\n",
    "Let $P(n)$ be the predicate \"n is a factor of 8\", find the truth set of $P(n)$ if:\n",
    "\n",
    "1. The domain of $n$ is the set $\\mathbb{Z}^+$.\n",
    "\n",
    "2. The domain of $n$ is the set $\\mathbb{Z}$."
   ]
  },
  {
   "cell_type": "markdown",
   "id": "8a58f083-27c1-4a03-b9ab-0a048c8d096a",
   "metadata": {},
   "source": [
    "$\\textbf{Proving Existential Statements (Constructive Proofs of Existence)}$\n",
    "-\n",
    "\n",
    "\\begin{equation}\n",
    "\\{x \\in D | P(x)\\}, \\ is \\ true \\iff P(x) \\ is \\ true \\ for \\ at \\ least \\ one \\ x \\ in \\ D.\n",
    "\\end{equation}\n",
    "\n",
    "There are two ways to prove this:\n",
    "\n",
    "1. Find an $x$ in $D$ that makes $P(x)$ true.\n",
    "\n",
    "2. Provide a set of instructions to find $x$ that makes $P(x)$ true."
   ]
  },
  {
   "cell_type": "markdown",
   "id": "0255869e-e61d-481a-a211-a0d30ad20cc2",
   "metadata": {},
   "source": [
    "Exercises:\n",
    "\n",
    "1. Prove that $\\exists$ even integer $n$ that can be written in two ways as a sum of two prime numbers.\n",
    "\n",
    "2. Suppose $r$ and $s$ are integers. Prove that $\\exists$ an integer $k$ s.t. $22r+18s = 2k$."
   ]
  },
  {
   "cell_type": "markdown",
   "id": "0b4be225-6e04-48e8-920f-5e34e5a4a791",
   "metadata": {},
   "source": [
    "$\\textbf{Nonconstructuve Proof of Existence}$\n",
    "\n",
    "1. The existence of a value $x$ that makes $P(x)$ true is guaranteed by an axiom, of previously proved by a theorem.\n",
    "\n",
    "2. The assumption that there is no such $x$ leads to a contradiction. "
   ]
  },
  {
   "cell_type": "markdown",
   "id": "7f8b5e5a-3bc3-4589-87ff-51a5779d21c2",
   "metadata": {},
   "source": [
    "$\\textbf{Disproving Universal Statements by Counterexample}$\n",
    "\n",
    "- To disprove a statement is to show that it is false.\n",
    "\n",
    "- To disprove a statement of the form $\\forall x \\in D$, if $P(x)$ then $Q(x)$, find a value $x \\in D$ for which the hypothesis $P(x)$ is true and the conclusion $Q(x)$ is false. Such an $x$ is called a counter example."
   ]
  },
  {
   "cell_type": "markdown",
   "id": "a9094078-ef9a-402b-bf39-c035ed1738c3",
   "metadata": {},
   "source": [
    "Exercise:\n",
    "Disprove the following statement by finding a countereample:\n",
    "\\begin{equation}\n",
    "\\forall \\ real \\ numbers \\ a \\ and  \\ b, \\ if \\ a^2=b^2 \\ then  \\ a=b\n",
    "\\end{equation}\n",
    "\n",
    "Steps:\n",
    "\n",
    "1. Identify the hypothesis: $P(x)$\n",
    "\n",
    "2. Identify the conclusion: $Q(x)$\n",
    "\n",
    "3. Find $x \\in D$ that makes $P(x)$ true and $Q(x)$ false"
   ]
  },
  {
   "cell_type": "markdown",
   "id": "a7e77f23-db11-48ee-9f43-bea50b1f0874",
   "metadata": {},
   "source": [
    "$\\textbf{Method of Direct Proof}$\n",
    "-\n",
    "\n",
    "1. Express the statement to be proves in the form\n",
    "\\begin{equation}\n",
    "\\forall x \\in D, \\ if \\ P(x) \\ then \\ Q(x)\n",
    "\\end{equation}\n",
    "\n",
    "2. Start the proof by supposing $x$ is a particular but arbitrarily chosen element of $D$ for which the hypothesis $P(x)$ is true. Abbreviated as\n",
    "\\begin{equation}\n",
    "Suppose \\  x \\in D, \\ and \\ P(x)\n",
    "\\end{equation}\n",
    "\n",
    "3. Show that $Q(x)$ is true by using theorems, laws, definitions, logical inferences."
   ]
  },
  {
   "cell_type": "markdown",
   "id": "82057901-5c6b-4486-8fec-b7d85730f8c7",
   "metadata": {},
   "source": [
    "Exercise:\n",
    "\n",
    "Show that the sum of any two even integer is also an even integer.\n",
    "\n",
    "Steps:\n",
    "1. Formalize the statement to be proven.\n",
    "\n",
    "2. Set a starting point.\n",
    "\n",
    "3. Show the prove using definitions, laws, and theorems."
   ]
  },
  {
   "cell_type": "markdown",
   "id": "9c80396b-7536-4474-a38c-39be8d149172",
   "metadata": {},
   "source": [
    "$\\textbf{Common Mistakes in Creating Proofs}$\n",
    "-\n",
    "\n",
    "1. Arguing from Examples:\n",
    "\n",
    "- Looking at examples is one of the most helpful practices a problem solver can engage in and is encouraged by all good mathematics teachers, this is not considered as a formal proof.\n",
    "- Examples cannot be generalized and should be considered as special cases.\n",
    "- There might be a possibility that a counterexample might exist.\n",
    "- A universal statement may be true in many instances without being true in general.\n",
    "\n",
    "Example: If you answer to the exercise that the sum of any two integer is also an even integer is similar to\n",
    "Let $m = 14$, which is even, and let $n = 6$ which is also even then the sum of m and n, which is $m+n = 20$, which is even. This might sound convincing and support a true conclusion but it is not a generalize solution, but a spciale case of using the integer 14 and 6 to end up with 22.\n",
    "\n",
    "2. Using the same letter to mean two different things:\n",
    "\n",
    "- This is a noob mistake, sometimes begginers would often give a new variable the same letter as the previously introduced variable, which is wrong.\n",
    "\n",
    "Example: If your answer is similar to, by definition of an even integer $m = 2k$ and $n = 2k$, you are stating that m and n are equal since $m = 2k = n$, s.t. $m+n = (2k) + (2k) = 4k$. The result is not a definition of an even integer.\n",
    "\n",
    "3. Jumping into conclusion:\n",
    "\n",
    "- Alleging the truth without providing adequate reasons.\n",
    "\n",
    "Example: If your answer is similar to suppose $m$ and $n$ are even integer. By definition of even, $m = 2r$ and $n=2s$, for some integer r and s. Then $m+n = 2r+2s$ is even. This proof is wrong, the problem with this proof is that it lacks the definition of an even integer that is $m+n = 2r+2s = 2(r+s)$, let $(r+s) = \\beta$, and let $m+n = \\alpha$ then $\\beta=2 \\alpha$ which is a definition of an even number.\n",
    "\n",
    "4. Circular Reasoning\n",
    "\n",
    "- You are assuming what is to be proved, this is a variation of jumping into conclusion.\n",
    "\n",
    "Example: if your answer is similar to suppose m and n are any even integers, then by definition, their sum is also even. Why is this not a valid proof?\n",
    "\n",
    "5. Confusion between what is known and what is still to be shown.\n",
    "\n",
    "- When noobs tend to overcomplicate things. This occurs when.\n",
    "\n",
    "6. Misuse of any and some.\n",
    "\n",
    "- Some mathematicians are particular with the usage of the words $\\textbf{any}$ and $\\textbf{some}$, the statement $\\textbf{for any integer}$ is not the same as the phrase $\\textbf{for some integer}$, it is better to use $\\textbf{there exist}$ denoted as $\\forall$, so in this case $\\textbf{there exist an integer a}$ is denoted as \"Let $a$ be an integer then $\\forall a$\"\n",
    "\n",
    "7. Usage of the word $\\textbf{if}$\n",
    "\n",
    "- $\\textbf{if}$ usually denotes a doubt in the proof."
   ]
  },
  {
   "cell_type": "markdown",
   "id": "c9dda3ed-091f-4c1a-b74a-89cef435e781",
   "metadata": {},
   "source": [
    "$\\textbf{Tips on how to create proofs}$\n",
    "\n",
    "1. Identify the $\\textbf{starting point}$ and the $\\textbf{conclusion to be shown}$.\n",
    "\n",
    "- Establish the domain, hypothesis, and conclusion:\n",
    "\n",
    "Example: Let $m$ and $n$ be positive integers. Suppose $m$ is an even integer, and $n$ is an integer, the sum of $m$ and $n$ is also an even integer.\n",
    "\n",
    "Domain = $m$ and $n$ are both positive integer.\n",
    "\n",
    "Hypohtesis = Suppose m is an even integer, n is also an even integer\n",
    "\n",
    "Conclusion = sum of m and n is also even.\n",
    "\n",
    "2. Establish a statements by using laws, theorems, and definitions:\n",
    "\n",
    "Domain: $m,n \\in \\mathbb{Z}^+$\n",
    "\n",
    "Hypothesis: Let $r\\in \\mathbb{Z}^+$ be an integer s.t. by definition of an even integer $m = 2r$, and let $s\\in \\mathbb{Z}^+$ s.t. $n = 2s$.\n",
    "\n",
    "Conclusion: $m + n = (2r) + (2s)$\n",
    "\n",
    "3. Support the conclusion with law, definitions, and theorems:\n",
    "\n",
    "Conclusion: $m+n = (2r) + (2s) = 2(r+s)$, letting $m+n = \\alpha$ and $(r+s) = \\beta$, then $\\alpha =  2\\beta$, which is the definition of an even number.\n",
    "\n",
    "4. Write your answer:\n",
    "\n",
    "Let $m,n \\in \\mathbb{Z}^+$, $\\exists r,s \\in \\mathbb{Z}^+$ s.t. $m = 2r$ and $n = 2s$, then $m+n = (2r)+(2s) = 2(r+s)$, let $m+n = \\alpha$ and $(r+s) = \\beta$, then $\\alpha =  2\\beta$"
   ]
  },
  {
   "cell_type": "markdown",
   "id": "da69bc8c-cb36-4b41-8737-37cc8394dfdb",
   "metadata": {},
   "source": [
    "$\\textbf{Sample Exercises}$\n",
    "\n",
    "1. Is $-17$ an odd integer for some particular integer k?\n",
    "2. Is $6m+8n$ an even integer for some particular integer k?\n",
    "3. Use constructive proofs and direct proofs for the statement that there are integers $m$ and $n$ such that $m>1$ and $n>1$ and $\\frac{1}{m} + \\frac{1}{n}$ is an integer."
   ]
  },
  {
   "cell_type": "markdown",
   "id": "73f97530-65d1-4d3d-beb0-b9203c2d1a55",
   "metadata": {},
   "source": [
    "$\\textbf{Direct Proofs and Counterexamples for Rational Numbers}$\n",
    "-"
   ]
  },
  {
   "cell_type": "markdown",
   "id": "c1178fbf-0f08-439e-8915-78a5afc79322",
   "metadata": {},
   "source": [
    "$\\textbf{Definition}$\n",
    "\n",
    "- A real number $r$ is a $\\textbf{rational number} \\iff$ it can be expressed as a qoutient of two integers with a nonzero denominator.\n",
    "- Mathematically expressed as:\n",
    "\\begin{gather}\n",
    "\\textbf{r} \\ is \\ rational \\iff \\exists \\ integers \\ a \\  and \\ b \\ s.t. \\ \\frac{a}{b}, \\ where  \\ b \\neq 0.\n",
    "\\end{gather}\n",
    "- A real number is not rational is called an $\\textbf{irrational number}$. These types of numbers are niether repeating nor recurring.\n",
    "- Every integer is a rational number"
   ]
  },
  {
   "cell_type": "markdown",
   "id": "40f3f93e-cced-402f-a42a-d50006e667bb",
   "metadata": {},
   "source": [
    "$\\textbf{Sample Exercises}$\n",
    "\n",
    "Check if the following is a rational or irrational number.\n",
    "\n",
    "1. $\\sqrt{\\sqrt{16}}$\n",
    "2. $\\sqrt{32}$\n",
    "3. $\\frac{2}{0}$\n",
    "4. $0.281$\n",
    "5. $x = 0.121212....$\n",
    "6. Using direct proofs, prove that the sum of any two rational integers is also rational."
   ]
  },
  {
   "cell_type": "markdown",
   "id": "fdb5839c-a343-4631-b92d-8e76be9ac766",
   "metadata": {},
   "source": [
    "$\\textbf{Direct Proof and Counterexamples for Divisible Numbers}$\n",
    "-"
   ]
  },
  {
   "cell_type": "markdown",
   "id": "ca6bed85-1c14-467b-a21f-fd777597d931",
   "metadata": {},
   "source": [
    "$\\textbf{Definition}$\n",
    "\n",
    "- If $n$ and $d$ are integers and $d \\neq 0$ then $n$ is $\\textbf{divisble by}$ $d \\iff$ $n$ equals $d$ times some integer.\n",
    "\n",
    "- $\\frac{n}{d} \\iff n=dk$"
   ]
  },
  {
   "cell_type": "markdown",
   "id": "d62da9be-122a-4b3d-a94b-4780711659a3",
   "metadata": {},
   "source": [
    "$\\textbf{Sample Exercises}$\n",
    "\n",
    "- Prove the theorem that $\\forall (a,b) \\geq 0$, and $a$ divides $b$ then $a \\leq b$, and if $1 \\leq k$.\n",
    "- If $(a,b) \\in \\mathbb{Z}$, prove that $3a+3b$ is divisible by 3.\n",
    "- If $(k,m)\\in \\mathbb{Z}$, prove that $10km$ is divisble by 5.\n",
    "- Prove the theorem of $\\textbf{\"Transitivity of Divisibility\"}$ that $\\forall (a,b,c) \\in \\mathbb{Z}$ if $\\frac{b}{a}$ and $\\frac{c}{b}$ then $\\frac{c}{a}$.\n",
    "- Can we show that $\\forall (a,b) \\in \\mathbb{Z}$, if $\\frac{b}{a}$ and $\\frac{a}{b}$, then $a = b$."
   ]
  },
  {
   "cell_type": "markdown",
   "id": "ff9223d1-584e-40d9-92b2-59fe77f58ca0",
   "metadata": {},
   "source": [
    "$\\textbf{Direct Proof and Counterexamples for Division with Remainders (Quotient-Remainder Theorem)}$"
   ]
  },
  {
   "cell_type": "markdown",
   "id": "913d3e41-f2e0-42f5-a2b4-75635517609e",
   "metadata": {},
   "source": [
    "$\\textbf{Definition}$\n",
    "\n",
    "- Given any integer $n$ and a positive integer $d$, $\\exists$ a unique integer $q$ and $r$ s.t. $n = dq+r$ where $0 \\leq r < d$.\n",
    "\n",
    "- $\\textbf{n div d}$ = the integer quotient obtained when n is divided by d.\n",
    "\n",
    "- $\\textbf{n  mode d}$ = the $\\textbf{non-negative}$ integer remainder obtained when n is divided by d.\n",
    "\n",
    "- $ n \\ \\textbf{div} \\ d= q$ and $n \\ \\textbf{mode} \\ d = r$ $\\iff$ $n = dq+r$"
   ]
  },
  {
   "cell_type": "markdown",
   "id": "f13df938-cb76-4cd9-a165-362509c28a0b",
   "metadata": {},
   "source": [
    "$\\textbf{Direct Proof and Counterexamples for Floor and Ceiling Functions}$\n",
    "-"
   ]
  },
  {
   "cell_type": "markdown",
   "id": "4ca0d985-6814-4e96-8f7e-1cc3a91f924a",
   "metadata": {},
   "source": [
    "$\\textbf{Definition}$\n",
    "\n",
    "- Given any number $x$, $\\textbf{the floor of x}$, denoted as $\\lfloor x \\rfloor$, is that unique integer $n$ s.t. $n \\leq x < n+1$\n",
    "\n",
    "- $\\lfloor x \\rfloor = n \\iff n \\leq x < n+1$.\n",
    "\n",
    "- Given any number $x$, $\\textbf{the floor of x}$, denoted as $\\lceil x \\rceil$, is that unique integer $n$ s.t. $n-1 < x \\leq n$\n",
    "\n",
    "- $\\lceil x \\rceil = n \\iff n-1 < x \\leq n$."
   ]
  },
  {
   "cell_type": "markdown",
   "id": "157f441c-705b-48bf-a93f-b12d84874bf7",
   "metadata": {},
   "source": [
    "$\\textbf{Examples}$\n",
    "\n",
    "1. Is the statement $\\lfloor x + y \\rfloor = \\lfloor x \\rfloor + \\lfloor y \\rfloor$ true or false?\n",
    "\n",
    "2. Let $x \\in \\mathbb{R}$ and $m \\in \\mathbb{Z}$, then $\\lfloor x + m \\rfloor = \\lfloor x \\rfloor + m$\n",
    "\n",
    "3. Let $n \\in \\mathbb{Z}$, prove that if n is even then $\\lfloor \\frac{n}{2} \\rfloor = \\frac{n}{2}$, and if n is odd then $\\lfloor \\frac{n}{2} \\rfloor = \\frac{n-1}{2}$"
   ]
  },
  {
   "cell_type": "markdown",
   "id": "c9243474-f794-421f-9f11-83e00a02cd3f",
   "metadata": {},
   "source": [
    "$\\textbf{Side Quest: Absolute Values}$"
   ]
  },
  {
   "cell_type": "markdown",
   "id": "c8ab1a05-6ea3-4de1-bb8d-0253d0bb8ed6",
   "metadata": {},
   "source": [
    "$\\textbf{Definition}$\n",
    "\n",
    "- $\\forall x \\in \\mathbb{R}$\n",
    "\n",
    "\\begin{equation}\n",
    "    |x|=\n",
    "    \\begin{cases}\n",
    "      x, & \\text{if}\\ x \\geq 1 \\\\\n",
    "      -(x), & \\text{if}\\ x < 1\n",
    "    \\end{cases}\n",
    "  \\end{equation}\n",
    "\n",
    "- note: an absolute value will always return a positive value."
   ]
  },
  {
   "cell_type": "markdown",
   "id": "481e88f8-d5cb-4722-b2ee-af41818ff1f1",
   "metadata": {},
   "source": [
    "$\\textbf{Methods of Proving by Contradiction}$\n",
    "- \n",
    "\n",
    "- Start with the negation of the statement.\n",
    "\n",
    "- Logically show that it leads to a contradiction\n",
    "\n",
    "- Conclude the statement\n",
    "\n",
    "$\\textbf{Example}$: Use proof of contradiction to show that there is no greatest integer.\n",
    "\n",
    "Solution:\n",
    "Step 1 (negation of the statement): Suppose there is a greatest integer $N$ s.t. $N \\in \\mathbb{Z}^+$.\n",
    "\n",
    "Step 2 (logically show it leads to a contradiction): Let $n \\in Z$, but $\\{\\mathbb{Z}^-,\\mathbb{Z}^+ \\} \\in \\mathbb{Z}$, then $N > n$ since $N \\in \\mathbb{Z}^+$.\n",
    "\n",
    "Step 3 (Conclude the statement): $\\therefore \\ \\exists N \\ s.t. \\ N>n$."
   ]
  },
  {
   "cell_type": "markdown",
   "id": "bfe79570-d554-48bc-8098-76b24598cbb2",
   "metadata": {},
   "source": [
    "$\\textbf{Methods of Proving by Contrapositive}$\n",
    "- \n",
    "\n",
    "- Express the statement to be proved in the form of:$\\forall x \\in D, \\ if \\ P(x) \\implies Q(x)$.\n",
    "\n",
    "- Rewrite the sentence in a contrapositive form of:$\\forall x \\in D, \\ if \\ Q(x) \\ is \\ false \\implies P(x) \\ is \\ also \\ false$.\n",
    "\n",
    "- Prove the contrapositive statement in a direct form.\n",
    "\n",
    "$\\textbf{Example}$: $\\forall n \\in \\mathbb{Z}$ if $n^s$ is even, then n is also even.\n",
    "\n",
    "Solution:\n",
    "Step 1: $P(x)$ = $n^s$ is even, $Q(x)$: $n$ is even.\n",
    "\n",
    "Step 2: If $Q(x)$ is even, suppose now that $Q(x)$ is odd s.t. $n = 2k+1, \\forall k \\in \\mathbb{Z}$\n",
    "\n",
    "Step 3: $n^2 = (2k+1)^2 = 4k^2+4k+1 = 2(2k^2+2k)+1$, let $2k^2+2k = m$ then $n^2 = 2m+1$.\n",
    "\n",
    "Step 4: Then the statement is true."
   ]
  },
  {
   "cell_type": "markdown",
   "id": "188d623d-79cb-4d7e-aaed-112bb84d8d33",
   "metadata": {},
   "source": [
    "$\\textbf{Assignment}$\n",
    "Instructions:\n",
    "- Use latex.\n",
    "- Write your latex in jupyter notebook.\n",
    "- Push your answer to your github account.\n",
    "- Deadline is 2 weeks before finals.\n",
    "- Fail to submit 2 weeks before finals is an automatic 5.0 for this assignment.\n",
    "- Each problem is 25 points.\n",
    "\n",
    "1. Recall the definition of a rational number, denoted as $\\mathbb{Q}$. Prove that the Euler's number $e = \\Sigma_{k=0}^\\infty \\frac{1}{k!} \\notin \\mathbb{Q}$. A factorial is defined as $k! = (k)(k-1)(k-2)(k-3)..., \\forall k \\in \\mathbb{Z}^+$, note that $0! = 1$. Furthermore, a sum notation $\\Sigma_{k=0}^\\infty k = 0+ 1 + 2 + 3 +....+...$\n",
    "\n",
    "2. Prove Minkowski's Inequality for sums, $\\forall \\ p>1, (a_k, b_k)>0$:\n",
    "\\begin{gather}\n",
    "\\begin{bmatrix}\n",
    "\\Sigma_{k=1}^n |a_k + b_k|^p\n",
    "\\end{bmatrix}^\\frac{1}{p}\n",
    "\\leq\n",
    "\\begin{bmatrix}\n",
    "\\Sigma_{k=1}^n |a_k|^p\n",
    "\\end{bmatrix}^\\frac{1}{p}\n",
    "+\n",
    "\\begin{bmatrix}\n",
    "\\Sigma_{k=1}^n |b_k|^p\n",
    "\\end{bmatrix}^\\frac{1}{p}\n",
    "\\end{gather}\n",
    "\n",
    "3. Prove the triangle inequality $|x+y| \\leq |x| + |y|, \\forall (x,y) \\in \\mathbb{R}$\n",
    "\n",
    "4. Prove Sedrakayan's Lemma $\\forall u_i, v_i \\in \\mathbb{R}^+$:\n",
    "\\begin{gather}\n",
    "\\frac{(\\Sigma_{i=1}^n u_i)^2}{\\Sigma_{i=1}^n v_i}\n",
    "\\leq\n",
    "\\Sigma_{i=1}^n \\frac{(u_i)^2}{v_i}\n",
    "\\end{gather}"
   ]
  },
  {
   "cell_type": "code",
   "execution_count": null,
   "id": "06d2c32f-3ee6-4032-9b8f-6145f5077911",
   "metadata": {},
   "outputs": [],
   "source": []
  }
 ],
 "metadata": {
  "kernelspec": {
   "display_name": "Python 3 (ipykernel)",
   "language": "python",
   "name": "python3"
  },
  "language_info": {
   "codemirror_mode": {
    "name": "ipython",
    "version": 3
   },
   "file_extension": ".py",
   "mimetype": "text/x-python",
   "name": "python",
   "nbconvert_exporter": "python",
   "pygments_lexer": "ipython3",
   "version": "3.8.16"
  }
 },
 "nbformat": 4,
 "nbformat_minor": 5
}
