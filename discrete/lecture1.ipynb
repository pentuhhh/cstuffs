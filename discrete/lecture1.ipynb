{
 "cells": [
  {
   "cell_type": "markdown",
   "metadata": {
    "vscode": {
     "languageId": "latex"
    }
   },
   "source": [
    "$\\textbf{Mathematical Systems, Direct Proofs and Counter Examples}$"
   ]
  },
  {
   "cell_type": "markdown",
   "metadata": {},
   "source": [
    "$\\textbf{By: Nikolai Tristan Pazon}$\n",
    "\n",
    "$\\textbf{University of San Carlos}$"
   ]
  },
  {
   "cell_type": "markdown",
   "metadata": {},
   "source": [
    "$\\textbf{Task: Prove that e, Euler's number is not a rational number}$"
   ]
  },
  {
   "cell_type": "markdown",
   "metadata": {
    "vscode": {
     "languageId": "latex"
    }
   },
   "source": [
    "$$\n",
    "e = \\sum_{k=0}^\\infty \\frac{1}{k!} \\notin \\mathbb{Q}\n",
    "$$\n"
   ]
  },
  {
   "cell_type": "markdown",
   "metadata": {},
   "source": [
    "Let us create a hypothesis, assume that euler's number is a rational number.\n",
    "\n",
    "hypothesis: $e \\in \\mathbb{Q}$"
   ]
  },
  {
   "cell_type": "markdown",
   "metadata": {},
   "source": [
    "Recalling the definition of a rational number, denoted as $\\mathbb{Q}$\n",
    "\n",
    "$$\n",
    "\\frac{a}{b} = \\mathbb{Q}\n",
    "$$"
   ]
  },
  {
   "cell_type": "markdown",
   "metadata": {},
   "source": [
    "Suppose that the summation from k = 0 to $\\infty$ can be expressed in a more simpler form\n",
    "\n",
    "$$\n",
    "    e = \\sum_{k=0}^\\infty \\frac{1}{k!} = \\frac{1}{0!} + \\frac{1}{1!} + \\frac{1}{2!} ... + \\frac{1}{k!} = \\frac{a}{b}\n",
    "$$\n",
    "\n",
    "$$\n",
    "e = \\frac{a}{b}\n",
    "$$"
   ]
  },
  {
   "cell_type": "markdown",
   "metadata": {},
   "source": [
    "According to our hypothesis where $e \\in \\mathbb{Q}$, the reciprocal of eulers number\n",
    "should also be rational\n",
    "\n",
    "$$\n",
    "e = \\frac{a}{b} \\quad = \\quad e^{x} = \\frac{b}{a}\n",
    "$$\n",
    "$$\n",
    "s.t. \\space\\space x = -1\n",
    "$$"
   ]
  },
  {
   "cell_type": "markdown",
   "metadata": {},
   "source": [
    "$$\n",
    "e^{-1} = \\frac{1}{e} = \\frac{b}{a} = \\sum_{k=0}^\\infty \\frac{(-1)^{k}}{k!}\n",
    "$$\n",
    "\n",
    "$$\n",
    "s.t. \\space\\space\\space a,b \\in \\mathbb{Z}\n",
    "$$"
   ]
  },
  {
   "cell_type": "markdown",
   "metadata": {},
   "source": [
    "Using a, let us group the summation of the infinite series into two terms. The first term will be the summation from 0 to a and the second \n",
    "term will be the summation from a to infinity. \n",
    "\n",
    "$$\n",
    "e^{-1} = \\frac{b}{a}= \\sum_{k=0}^{a} \\frac{(-1)^{k}}{k!} + \\sum_{k = a + 1}^{\\infty} \\frac{(-1)^{k}}{k!}\n",
    "$$\n",
    "\n",
    "$$\n",
    "\\frac{b}{a} - \\sum_{k = 0}^{a} \\frac{(-1)^k}{k!} = \\sum_{k = a + 1}^{\\infty} \\frac{(-1)^{k}}{k!}\n",
    "$$"
   ]
  },
  {
   "cell_type": "markdown",
   "metadata": {},
   "source": [
    "Multiply each term with \n",
    "\n",
    "$$(-1)^{(a+1)}a!$$"
   ]
  },
  {
   "cell_type": "markdown",
   "metadata": {},
   "source": [
    "$\\textbf{term 1:}$\n",
    "\n",
    "$$\n",
    "= \\frac{b}{a} * (-1)^{(a+1)}a!\n",
    "$$\n",
    "\n",
    "$$\n",
    "    = (-1)^{(a+1)} b(a-1)! \n",
    "$$"
   ]
  },
  {
   "cell_type": "markdown",
   "metadata": {},
   "source": [
    "$\\textbf{term 2:}$\n",
    "\n",
    "$$\n",
    "(-1)^{(a+1)} (\\frac{a!}{2!} \\dots + \\frac{(-1)^{a}a!}{a})\n",
    "$$\n",
    "\n",
    "in this series, every denominator is always less than the numerator, it will always result\n",
    "an integer since the denominator is a factor of the numerator\n",
    "\n",
    "$$\n",
    "    \\forall a, b \\in \\mathbb{Z}, a > b\n",
    "$$\n",
    "\n",
    "$$\n",
    "    \\frac{a!}{b!} = c, \\space\\space\\space s.t \\space\\space\\space c \\in \\mathbb{Z}\n",
    "$$"
   ]
  },
  {
   "cell_type": "markdown",
   "metadata": {},
   "source": [
    "since term 1 and term 2 is a subtraction between two integers, we can conclude that the left\n",
    "side of the equation is an integer\n",
    "\n",
    "$$\n",
    "\n",
    "(-1)^{(a+1)} b(a-1)! - (-1)^{(a+1)} (\\frac{a!}{2!} \\dots + \\frac{(-1)^{a}a!}{a}) \\in \\mathbb{Z}\n",
    "\n",
    "$$"
   ]
  },
  {
   "cell_type": "markdown",
   "metadata": {},
   "source": [
    "Let us expound on the term on the right side of the equation\n",
    "\n",
    "$$\n",
    "=  \\frac{1}{a + 1} - \\frac{1}{(a + 1)(a + 2)} + \\dots\n",
    "$$\n",
    "\n"
   ]
  },
  {
   "cell_type": "markdown",
   "metadata": {},
   "source": [
    "in this expression, an upper and lower bound is defined. The first term is the \n",
    "upper bound. The succeeding terms are the lower bound such that it is lower than the first term\n",
    "as k reaches infinity, the summation of the succeding terms will approach zero. Therefore this\n",
    "this expression will result in a number that is irrational\n",
    "\n",
    "$$\n",
    "\\frac{1}{a + 1} - \\frac{1}{(a + 1)(a + 2)} + \\dots \\notin \\mathbb{Z}\n",
    "$$"
   ]
  },
  {
   "cell_type": "markdown",
   "metadata": {},
   "source": [
    "Therefore by contradiction, Euler's number is Irrational"
   ]
  },
  {
   "cell_type": "markdown",
   "metadata": {},
   "source": [
    "$\\textbf{Task: Prove Minskow's Inequality for Sums}$\n",
    "\n",
    "$$\n",
    "    [\\sum_{k = 1}^{n} |a_k + b_k|^{p}]^\\frac{1}{p} \\leq [\\sum_{k = 1}^{n} |a_k|^{p}]^\\frac{1}{p}\n",
    "  + [\\sum_{k = 1}^{n} |b_k|^{p}]^\\frac{1}{p}\n",
    "$$\n",
    "\n",
    "$$\n",
    "\\forall a, b, p \\in \\mathbb{R}\n",
    "$$\n",
    "\n",
    "$$\n",
    "p  > 1, (a_k, b_k) > 0\n",
    "$$"
   ]
  },
  {
   "cell_type": "markdown",
   "metadata": {},
   "source": [
    "Let us directly prove Minskowski's Inequality for sums by the\n",
    "triangle Inequality theorem\n",
    "\n",
    "$$\n",
    "|a + b| \\leq |a| + |b|\n",
    "$$"
   ]
  },
  {
   "cell_type": "markdown",
   "metadata": {},
   "source": [
    "Let us first raise terms on both sides to P\n",
    "\n",
    "$$\n",
    "|a + b|^{p} \\leq |a|^{p} + |b|^{p}  \n",
    "$$"
   ]
  },
  {
   "cell_type": "markdown",
   "metadata": {},
   "source": [
    "Do summation notation for all k from 1 to n\n",
    "\n",
    "$$\n",
    "\\sum_{k = 1}^{n} |a_k + b_k|^{p} \\leq \\sum_{k=1}^{n} |a_k|^{p} + \\sum_{k =1 }^{n} |b_k|^{p} \n",
    "$$\n"
   ]
  },
  {
   "cell_type": "markdown",
   "metadata": {},
   "source": [
    "raise to 1 over p by property of absolute value\n",
    "\n",
    "$$\n",
    "[\\sum_{k = 1}^{n}|a_k + b_k|^{p}]^{\\frac{1}{p}} \\leq [\\sum_{k = 1}^{n} |a_k|^{p}]^{\\frac{1}{p}} + [\\sum_{k = 1}^{n}|b_k|^{p}]^{\\frac{1}{p}}\n",
    "$$"
   ]
  }
 ],
 "metadata": {
  "kernelspec": {
   "display_name": ".venv",
   "language": "python",
   "name": "python3"
  },
  "language_info": {
   "codemirror_mode": {
    "name": "ipython",
    "version": 3
   },
   "file_extension": ".py",
   "mimetype": "text/x-python",
   "name": "python",
   "nbconvert_exporter": "python",
   "pygments_lexer": "ipython3",
   "version": "3.12.3"
  }
 },
 "nbformat": 4,
 "nbformat_minor": 2
}
