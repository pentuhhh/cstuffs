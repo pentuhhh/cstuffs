{
 "cells": [
  {
   "cell_type": "markdown",
   "metadata": {},
   "source": [
    "Question 1: Imagine you have a bag of marbles. Some are red, some are blue, and some are green. You keep picking a marble from the bag, noting its color, and then putting it back. You do this many times. The question is asking, “If I know how many red, blue, and green marbles are in the bag, can I guess how many of each color I’ll pick?” The answer is yes! If you pick enough times, you’ll end up with about the same proportion of each color as is in the bag.\n",
    "\n",
    "Question 2: Now, imagine you’re at a school where students are in different grades: 1st, 2nd, 3rd, 4th, and 5th. You know what fraction of the students are in each grade. If you randomly pick students from the school, can you guess how many you’ll get from each grade? Again, the answer is yes! If you pick enough students, you’ll end up with about the same proportion from each grade as is in the school.\n",
    "\n",
    "The problem also asks about a specific situation: what if you pick 500 students and get exactly 100 from 1st grade, 200 from 2nd grade, and 200 from 4th grade? What are the chances of that happening? That’s a bit harder to figure out, but it’s possible using the same kind of math.\n",
    "\n",
    "Finally, it asks, “If I keep picking students, how many do I expect to be from 5th grade?” That’s just the total number of students you pick (500) times the fraction of students in 5th grade. So if 16% of students are in 5th grade, you’d expect to pick about 80 5th graders.\n"
   ]
  },
  {
   "cell_type": "code",
   "execution_count": null,
   "metadata": {
    "vscode": {
     "languageId": "plaintext"
    }
   },
   "outputs": [],
   "source": []
  }
 ],
 "metadata": {
  "language_info": {
   "name": "python"
  }
 },
 "nbformat": 4,
 "nbformat_minor": 2
}
